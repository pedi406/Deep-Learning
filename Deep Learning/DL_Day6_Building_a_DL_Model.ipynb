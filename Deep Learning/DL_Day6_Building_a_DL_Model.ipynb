{
  "nbformat": 4,
  "nbformat_minor": 0,
  "metadata": {
    "colab": {
      "name": "DL_Day6: Building a DL Model.ipynb",
      "provenance": [],
      "collapsed_sections": [],
      "toc_visible": true
    },
    "kernelspec": {
      "name": "python3",
      "display_name": "Python 3"
    }
  },
  "cells": [
    {
      "cell_type": "markdown",
      "metadata": {
        "id": "9pu4Zkv5jGa2"
      },
      "source": [
        "# Agenda\n",
        "1. Layers\n",
        "2. Sequential Model API\n",
        "\n",
        "  2.1 Understanding a Sequential Model conceptually\n",
        "\n",
        "  2.2 Creating a Sequential Model\n",
        "\n",
        "  2.3 Giving names to the layers\n",
        "\n",
        "  2.4 Adding an input\n",
        "\n",
        "  2.5 Model Summary\n",
        "\n",
        "  2.6 Example\n",
        "\n",
        "3. Functional Model API \n",
        "4. Model Subclassing\n",
        "5. Conclusion\n"
      ]
    },
    {
      "cell_type": "markdown",
      "metadata": {
        "id": "4iUcvL63cuLI"
      },
      "source": [
        "**NOTE:** Multi-layer perceptron (MLP) and deep neural networks (DNN) are often used interchangeably in Deep Learning. Infact, usually Neural networks are deep (more than 1 hidden layer) and thus DNNs are simply called Neural Networks.\n",
        "\n",
        "So there's nothing to worry about if you hear these terms being used interchangeably on the internet."
      ]
    },
    {
      "cell_type": "code",
      "metadata": {
        "id": "UK77YS_4oDl2"
      },
      "source": [
        "import numpy as np\n",
        "import tensorflow as tf  # Importing the TensorFlow Library\n",
        "from tensorflow import keras  # Import Keras from TensorFlow"
      ],
      "execution_count": null,
      "outputs": []
    },
    {
      "cell_type": "markdown",
      "metadata": {
        "id": "JvyfYn2tjfjo"
      },
      "source": [
        "## 1.Layers\n",
        "The neurons in a neural network are divided into layers.\n",
        "\n",
        "![](https://i.imgur.com/McMOhuQ.png)\n",
        "\n",
        "While we know them with the names Input, Hidden and Output till now, Tensorflow doesn’t go by those names. It wants the user to specify the type of that particular layer.\n",
        "\n",
        "For utilising the different types of layers we have available, Tensorflow provides a submodule called layers that we can import as follows:\n",
        "\n",
        "`from tensorflow.keras import layers`\n"
      ]
    },
    {
      "cell_type": "markdown",
      "metadata": {
        "id": "0uOI26BLkReE"
      },
      "source": [
        "**Dense Layer**\n",
        "\n",
        "\n",
        "*   A dense layer is just a regular layer of neurons in a neural network. \n",
        "*   It is the most common and frequently used layer.\n",
        "*   Look at the middle layer in the previous image. Each neuron receives input from all the neurons in the previous layer and is thus called densely connected or dense.\n",
        "\n",
        "\n"
      ]
    },
    {
      "cell_type": "markdown",
      "metadata": {
        "id": "dGlzubvJk4rV"
      },
      "source": [
        "There are two ways to create a model using Layers:\n",
        "1. Sequential Models\n",
        "2. Functional Models\n",
        "\n",
        "Let's have a look at both of them."
      ]
    },
    {
      "cell_type": "markdown",
      "metadata": {
        "id": "DzOI15yHjL_O"
      },
      "source": [
        "## 2.Sequential Model API\n",
        "The sequential model API is the **simplest** and is the API that we recommend, especially when getting started.\n",
        "\n",
        "You can think of a Sequential model as a **plain stack of layers** \n",
        "\n",
        "It is referred to as “sequential” because it involves defining a Sequential class and adding layers to the model one by one in a linear manner, from input to output.\n",
        "\n",
        "\n"
      ]
    },
    {
      "cell_type": "markdown",
      "metadata": {
        "id": "o7y4WPg6s7Zi"
      },
      "source": [
        "**Importing Libraries**\n",
        "\n",
        "* The Sequential library from tensorflow.keras is used to build Sequential models.\n",
        "\n",
        "* layers is used to create each layer of the model."
      ]
    },
    {
      "cell_type": "code",
      "metadata": {
        "id": "f_dR480Ospbd"
      },
      "source": [
        "from tensorflow.keras import Sequential\n",
        "from tensorflow.keras import layers"
      ],
      "execution_count": null,
      "outputs": []
    },
    {
      "cell_type": "markdown",
      "metadata": {
        "id": "ZRlBfQXQtq5j"
      },
      "source": [
        "### 2.1 Understanding a Sequential Model conceptually"
      ]
    },
    {
      "cell_type": "markdown",
      "metadata": {
        "id": "XTEb3OrRsr2_"
      },
      "source": [
        "The following Sequential model:"
      ]
    },
    {
      "cell_type": "code",
      "metadata": {
        "id": "7KQmQYYXIWvQ"
      },
      "source": [
        "# Define Sequential model with 3 layers\n",
        "model = keras.Sequential(\n",
        "    [\n",
        "        layers.Dense(2, activation=\"relu\", name=\"layer1\"),\n",
        "        layers.Dense(3, activation=\"relu\", name=\"layer2\"),\n",
        "        layers.Dense(4, name=\"layer3\"),\n",
        "    ]\n",
        ")\n",
        "# Call model on a test input\n",
        "x = tf.ones((3, 3))\n",
        "y = model(x)"
      ],
      "execution_count": null,
      "outputs": []
    },
    {
      "cell_type": "markdown",
      "metadata": {
        "id": "Ze3FxvggIX4C"
      },
      "source": [
        "is equivalent to this function:"
      ]
    },
    {
      "cell_type": "code",
      "metadata": {
        "id": "bw8lS7o5IaCv"
      },
      "source": [
        "# Create 3 layers\n",
        "layer1 = layers.Dense(2, activation=\"relu\", name=\"layer1\")\n",
        "layer2 = layers.Dense(3, activation=\"relu\", name=\"layer2\")\n",
        "layer3 = layers.Dense(4, name=\"layer3\")\n",
        "\n",
        "# Call layers on a test input\n",
        "x = tf.ones((3, 3))\n",
        "y = layer3(layer2(layer1(x)))  # <-- notice how layers are stacked "
      ],
      "execution_count": null,
      "outputs": []
    },
    {
      "cell_type": "markdown",
      "metadata": {
        "id": "TML7p-UUIizy"
      },
      "source": [
        "Notice how **one layer is stacked on top of another** in the last line. That's exactly what a Sequential Model does."
      ]
    },
    {
      "cell_type": "markdown",
      "metadata": {
        "id": "4Kxifg7qI5OA"
      },
      "source": [
        "### 2.2 Creating a Sequential model\n",
        "\n",
        "You can create a Sequential model by passing a list of layers to the Sequential\n",
        "constructor:"
      ]
    },
    {
      "cell_type": "code",
      "metadata": {
        "id": "nGY1BxuZJxPk"
      },
      "source": [
        "model = keras.Sequential(\n",
        "    [\n",
        "        layers.Dense(2, activation=\"relu\"),\n",
        "        layers.Dense(3, activation=\"relu\"),\n",
        "        layers.Dense(4),\n",
        "    ]\n",
        ")"
      ],
      "execution_count": null,
      "outputs": []
    },
    {
      "cell_type": "markdown",
      "metadata": {
        "id": "C-zOL1oeKOr_"
      },
      "source": [
        "You can also create a Sequential model incrementally via the `add()` method:"
      ]
    },
    {
      "cell_type": "code",
      "metadata": {
        "id": "dbQyUCHPMu_E"
      },
      "source": [
        "model = keras.Sequential()\n",
        "model.add(layers.Dense(2, activation=\"relu\"))\n",
        "model.add(layers.Dense(3, activation=\"relu\"))\n",
        "model.add(layers.Dense(4))"
      ],
      "execution_count": null,
      "outputs": []
    },
    {
      "cell_type": "markdown",
      "metadata": {
        "id": "zr5DxMqdM6Vi"
      },
      "source": [
        "### 2.3 Giving name to the layers.\n",
        "You can even add a `name` argument to name the different layers:"
      ]
    },
    {
      "cell_type": "code",
      "metadata": {
        "id": "wJGAbKNjM-Pf"
      },
      "source": [
        "model = keras.Sequential(name=\"my_sequential\")\n",
        "model.add(layers.Dense(2, activation=\"relu\", name=\"layer1\"))\n",
        "model.add(layers.Dense(3, activation=\"relu\", name=\"layer2\"))\n",
        "model.add(layers.Dense(4, name=\"layer3\"))"
      ],
      "execution_count": null,
      "outputs": []
    },
    {
      "cell_type": "markdown",
      "metadata": {
        "id": "os7xcsMxQghM"
      },
      "source": [
        "### 2.4 Adding an Input \n",
        "Generally, all layers in Keras need to know the shape of their inputs in order to be able to create their weights since the shape of the weights depends on the shape of the inputs.\n",
        "\n",
        "When you create a\n",
        "Sequential model without an input shape, it isn't \"built\": it has no weights. The weights are created\n",
        "when the model first sees some input data.\n",
        "\n",
        "One easy way to do that is to start your model by passing an Input object to your model, so that it knows its input shape from the start:"
      ]
    },
    {
      "cell_type": "code",
      "metadata": {
        "id": "KofYuifQcJ54"
      },
      "source": [
        "# Method 1\n",
        "model = keras.Sequential()\n",
        "model.add(keras.Input(shape=(4,))) # Why (4,) and not 4? Because we want our input to be a Vector (1D Tensor)\n",
        "model.add(layers.Dense(2, activation=\"relu\"))"
      ],
      "execution_count": null,
      "outputs": []
    },
    {
      "cell_type": "code",
      "metadata": {
        "id": "ZeL0mXB-epT0"
      },
      "source": [
        "# Method 2\n",
        "model = keras.Sequential()\n",
        "model.add(layers.Dense(2, activation=\"relu\", input_shape=(4,)))  # Combining the 2 code lines into 1"
      ],
      "execution_count": null,
      "outputs": []
    },
    {
      "cell_type": "markdown",
      "metadata": {
        "id": "ISTdzC2ZfB72"
      },
      "source": [
        "In general, it's a recommended best practice to always specify the input shape of a Sequential model in advance if you know what it is."
      ]
    },
    {
      "cell_type": "markdown",
      "metadata": {
        "id": "Lk-6AoRtfEry"
      },
      "source": [
        "### 2.5 Model Summary\n",
        "Tensorflow Keras provides a way to summarize a model. It can be very useful when building a Sequential model incrementally to be able to display the summary of the model.\n",
        "\n",
        "The summary is textual and includes information about:\n",
        "\n",
        "1. The layers and their order in the model.\n",
        "2. The output shape of each layer.\n",
        "3. The number of parameters (weights) in each layer.\n",
        "4. The total number of parameters (weights) in the model.\n",
        "\n",
        "The summary can be created by calling the summary() function on the model as `model.summary`.\n",
        "\n",
        "Note: The Input Layer is not displayed in summary because it merely decides the input shape and is not necessarily a layer."
      ]
    },
    {
      "cell_type": "code",
      "metadata": {
        "id": "Vhl9MBZ8CE4F",
        "colab": {
          "base_uri": "https://localhost:8080/",
          "height": 187
        },
        "outputId": "9e05a712-61a3-43d4-fa63-8d280fcaf549"
      },
      "source": [
        "model.summary()"
      ],
      "execution_count": null,
      "outputs": [
        {
          "output_type": "stream",
          "text": [
            "Model: \"sequential_4\"\n",
            "_________________________________________________________________\n",
            "Layer (type)                 Output Shape              Param #   \n",
            "=================================================================\n",
            "dense_7 (Dense)              (None, 2)                 10        \n",
            "=================================================================\n",
            "Total params: 10\n",
            "Trainable params: 10\n",
            "Non-trainable params: 0\n",
            "_________________________________________________________________\n"
          ],
          "name": "stdout"
        }
      ]
    },
    {
      "cell_type": "markdown",
      "metadata": {
        "id": "Yx16R9uFa7O4"
      },
      "source": [
        "In the above summary you can see that:\n",
        "* The name of our model is \"sequential_4\"\n",
        "* It has one layer of type Dense\n",
        "* The output shape of the layer is (None,2). \n",
        "\n",
        "  The output shapes are given by `(batch_size, units)`. Since we haven't specified a batch size and have the no. of units as 2, the output shape became (None,2).\n",
        "* The number of parameters is 10. \n",
        "The number of parameters in a Dense Layer are calculated as :\n",
        "\n",
        "\n",
        "  ```\n",
        "        number_parameters = output_size * (input_size + 1) \n",
        "  ```\n",
        "  So in this case, # parameters = 2 * (4+1) = 2*5 = 10\n",
        "\n",
        "\n",
        "You don't need to worry about thr difference between trainable and non-trainable parameters right now.\n",
        "\n",
        "**The number along with the layer i.e the 7 in dense_7 or along with model name i.e 4 in \"sequential_4\" is automatically generated by Tensorflow Keras, starting from 1. Each time you create a new layer, it is assigned a new number so that the autogenerated names of layers are unique and do not clash between each other.**"
      ]
    },
    {
      "cell_type": "markdown",
      "metadata": {
        "id": "vmoI6NqJnaoI"
      },
      "source": [
        "### 2.6 Plotting a Model\n",
        "It's always nice to visualise the models and see how each layer is connected to another. This can be done with the `plot_model` function from `tensorflow.keras.utils`.\n",
        "\n",
        "Currently, our model only has 1 Dense Layer so the displayed architecture will be very simple.\n",
        "\n",
        "Plotting models is particularly useful in case of large models involving many interconnected layers."
      ]
    },
    {
      "cell_type": "code",
      "metadata": {
        "id": "ixkxyFdwnZSn",
        "colab": {
          "base_uri": "https://localhost:8080/",
          "height": 173
        },
        "outputId": "5314dbc2-8cdc-4f12-9c45-cdcc71aba40a"
      },
      "source": [
        "from tensorflow.keras.utils import plot_model\n",
        "plot_model(model)"
      ],
      "execution_count": null,
      "outputs": [
        {
          "output_type": "execute_result",
          "data": {
            "image/png": "[encoded data removed]",
            "text/plain": [
              "<IPython.core.display.Image object>"
            ]
          },
          "metadata": {
            "tags": []
          },
          "execution_count": 11
        }
      ]
    },
    {
      "cell_type": "markdown",
      "metadata": {
        "id": "Kw-xy3cLo5Zj"
      },
      "source": [
        "### 2.7 Example\n",
        "The example below defines a Sequential MLP model that:\n",
        "* accepts 8 inputs, \n",
        "* has one hidden layer with 10 nodes (i.e. neurons) defined manually\n",
        "* and then an output layer with one node to predict a numerical value."
      ]
    },
    {
      "cell_type": "code",
      "metadata": {
        "id": "451FmeR_iTPp",
        "colab": {
          "base_uri": "https://localhost:8080/",
          "height": 221
        },
        "outputId": "b933b782-c053-40fc-d553-e72e61e21909"
      },
      "source": [
        "# example of a model defined with the sequential api\n",
        "\n",
        "# define the model\n",
        "model = Sequential()\n",
        "model.add(layers.Dense(10, input_shape=(8,)))  \n",
        "model.add(layers.Dense(1))\n",
        "\n",
        "model.summary()"
      ],
      "execution_count": null,
      "outputs": [
        {
          "output_type": "stream",
          "text": [
            "Model: \"sequential_5\"\n",
            "_________________________________________________________________\n",
            "Layer (type)                 Output Shape              Param #   \n",
            "=================================================================\n",
            "dense_8 (Dense)              (None, 10)                90        \n",
            "_________________________________________________________________\n",
            "dense_9 (Dense)              (None, 1)                 11        \n",
            "=================================================================\n",
            "Total params: 101\n",
            "Trainable params: 101\n",
            "Non-trainable params: 0\n",
            "_________________________________________________________________\n"
          ],
          "name": "stdout"
        }
      ]
    },
    {
      "cell_type": "markdown",
      "metadata": {
        "id": "DXdvWKoAk3j3"
      },
      "source": [
        "Note that the visible layer of the network is defined by the “input_shape” argument on the first hidden layer. That means in the above example, the model expects the input for one sample to be a vector of eight numbers.\n",
        "\n",
        "The sequential API is easy to use because you keep calling model.add() until you have added all of your layers.\n",
        "\n"
      ]
    },
    {
      "cell_type": "markdown",
      "metadata": {
        "id": "eji9ODAnoGby"
      },
      "source": [
        "Instead of typing layers.Dense again and again, we can import Dense from tensorflow.keras.layers and use it directly.\n",
        "\n",
        "For example, here is a deep MLP with five hidden layers. "
      ]
    },
    {
      "cell_type": "code",
      "metadata": {
        "id": "De7VL8L1k_iI",
        "colab": {
          "base_uri": "https://localhost:8080/",
          "height": 358
        },
        "outputId": "7ed97ce7-b8ec-42b2-b2d6-0ce493df1932"
      },
      "source": [
        "# example of a model defined with the sequential api\n",
        "from tensorflow.keras.layers import Dense\n",
        "\n",
        "# define the model\n",
        "model = Sequential()\n",
        "model.add(Dense(100, input_shape=(8,)))\n",
        "model.add(Dense(80))\n",
        "model.add(Dense(30))\n",
        "model.add(Dense(10))\n",
        "model.add(Dense(5))\n",
        "model.add(Dense(1))\n",
        "\n",
        "model.summary()"
      ],
      "execution_count": null,
      "outputs": [
        {
          "output_type": "stream",
          "text": [
            "Model: \"sequential_6\"\n",
            "_________________________________________________________________\n",
            "Layer (type)                 Output Shape              Param #   \n",
            "=================================================================\n",
            "dense_10 (Dense)             (None, 100)               900       \n",
            "_________________________________________________________________\n",
            "dense_11 (Dense)             (None, 80)                8080      \n",
            "_________________________________________________________________\n",
            "dense_12 (Dense)             (None, 30)                2430      \n",
            "_________________________________________________________________\n",
            "dense_13 (Dense)             (None, 10)                310       \n",
            "_________________________________________________________________\n",
            "dense_14 (Dense)             (None, 5)                 55        \n",
            "_________________________________________________________________\n",
            "dense_15 (Dense)             (None, 1)                 6         \n",
            "=================================================================\n",
            "Total params: 11,781\n",
            "Trainable params: 11,781\n",
            "Non-trainable params: 0\n",
            "_________________________________________________________________\n"
          ],
          "name": "stdout"
        }
      ]
    },
    {
      "cell_type": "code",
      "metadata": {
        "id": "8nGLmltzoKZ9",
        "colab": {
          "base_uri": "https://localhost:8080/",
          "height": 661
        },
        "outputId": "4a273029-51f5-42a7-8641-127e12b4bccb"
      },
      "source": [
        "plot_model(model)"
      ],
      "execution_count": null,
      "outputs": [
        {
          "output_type": "execute_result",
          "data": {
            "image/png": "[encoded data removed]",
            "text/plain": [
              "<IPython.core.display.Image object>"
            ]
          },
          "metadata": {
            "tags": []
          },
          "execution_count": 14
        }
      ]
    },
    {
      "cell_type": "markdown",
      "metadata": {
        "id": "VOwEjqowlJt8"
      },
      "source": [
        "## 3.Functional Model API (Advanced)\n",
        "The functional API is **more complex** but is also **more flexible**.\n",
        "Unlike the stack of layers in Sequential API, the functional API is a way to build graphs of layers.\n",
        "\n",
        "It involves clearly connecting the output of one layer to the input of another layer. Each connection is specified.\n",
        "\n",
        "Let's take the same example as above and create a Functional model:"
      ]
    },
    {
      "cell_type": "markdown",
      "metadata": {
        "id": "yt7fKbk4qFG3"
      },
      "source": [
        "1. First, an input layer must be defined via the Input class, and the shape of an input sample is specified."
      ]
    },
    {
      "cell_type": "code",
      "metadata": {
        "id": "Bwu1msu-lex9"
      },
      "source": [
        "from tensorflow.keras import Input\n",
        "\n",
        "# define the layers\n",
        "x_in = Input(shape=(8,))"
      ],
      "execution_count": null,
      "outputs": []
    },
    {
      "cell_type": "markdown",
      "metadata": {
        "id": "nL7BUQS5lsap"
      },
      "source": [
        "2. You create a new node in the graph of layers by calling a layer on this inputs object.\n",
        "Next, a fully connected layer can be connected to the input by calling the layer and passing the input layer. This will return a reference to the output connection in this new layer."
      ]
    },
    {
      "cell_type": "code",
      "metadata": {
        "id": "WkQRko99lwB2"
      },
      "source": [
        "dense = layers.Dense(64, activation=\"relu\")\n",
        "x = layers.Dense(10)(x_in)"
      ],
      "execution_count": null,
      "outputs": []
    },
    {
      "cell_type": "markdown",
      "metadata": {
        "id": "B0asEgBtl2nF"
      },
      "source": [
        "3. We can then connect this to an output layer in the same manner.\n"
      ]
    },
    {
      "cell_type": "code",
      "metadata": {
        "id": "pzsS8xppl9NZ"
      },
      "source": [
        "x_out = layers.Dense(1)(x)"
      ],
      "execution_count": null,
      "outputs": []
    },
    {
      "cell_type": "markdown",
      "metadata": {
        "id": "7XR21-bnmC12"
      },
      "source": [
        "4. Once connected, we define a Model object and specify the input and output layers. The complete example is listed below."
      ]
    },
    {
      "cell_type": "code",
      "metadata": {
        "id": "a16av5fPmVtn",
        "colab": {
          "base_uri": "https://localhost:8080/",
          "height": 256
        },
        "outputId": "16f73f59-0e83-437c-f4e5-a8c470b15fba"
      },
      "source": [
        "# example of a model defined with the functional api\n",
        "from tensorflow.keras import Model\n",
        "\n",
        "# define the layers\n",
        "x_in = Input(shape=(8,))\n",
        "x = Dense(10)(x_in)\n",
        "x_out = Dense(1)(x)\n",
        "# define the model\n",
        "model = Model(inputs=x_in, outputs=x_out)\n",
        "\n",
        "# print summary\n",
        "model.summary()"
      ],
      "execution_count": null,
      "outputs": [
        {
          "output_type": "stream",
          "text": [
            "Model: \"functional_1\"\n",
            "_________________________________________________________________\n",
            "Layer (type)                 Output Shape              Param #   \n",
            "=================================================================\n",
            "input_3 (InputLayer)         [(None, 8)]               0         \n",
            "_________________________________________________________________\n",
            "dense_19 (Dense)             (None, 10)                90        \n",
            "_________________________________________________________________\n",
            "dense_20 (Dense)             (None, 1)                 11        \n",
            "=================================================================\n",
            "Total params: 101\n",
            "Trainable params: 101\n",
            "Non-trainable params: 0\n",
            "_________________________________________________________________\n"
          ],
          "name": "stdout"
        }
      ]
    },
    {
      "cell_type": "markdown",
      "metadata": {
        "id": "8_1LUl98e7NI"
      },
      "source": [
        "Remember that the model summary in Sequential API didn't display the input layer? \n",
        "\n",
        "The Functional API displays the Input Layer in model summary as well."
      ]
    },
    {
      "cell_type": "code",
      "metadata": {
        "id": "UMAwD5jSm_5S",
        "colab": {
          "base_uri": "https://localhost:8080/",
          "height": 272
        },
        "outputId": "7b4c3cd9-9570-4bf5-84d5-9d2f5e8c608c"
      },
      "source": [
        "plot_model(model)"
      ],
      "execution_count": null,
      "outputs": [
        {
          "output_type": "execute_result",
          "data": {
            "image/png": "[encoded data removed]",
            "text/plain": [
              "<IPython.core.display.Image object>"
            ]
          },
          "metadata": {
            "tags": []
          },
          "execution_count": 19
        }
      ]
    },
    {
      "cell_type": "markdown",
      "metadata": {
        "id": "Jb66QwQEmfTC"
      },
      "source": [
        "As such, the Functional API allows for more complicated model designs, such as models that may have multiple input paths (separate vectors) and models that have multiple output paths (e.g. a word and a number).\n",
        "\n",
        "The functional API can be a lot of fun when you get used to it."
      ]
    },
    {
      "cell_type": "markdown",
      "metadata": {
        "id": "F4AwirSjvQKp"
      },
      "source": [
        "## 4.Model Subclassing\n",
        "There is another method of creating a model with Keras but that is a bit more advanced and currently out of scope."
      ]
    },
    {
      "cell_type": "markdown",
      "metadata": {
        "id": "7rHdktxVKaF2"
      },
      "source": [
        "## 5.Conclusion\n",
        "That's all with the methods of building Deep Learning Models!\n",
        "\n",
        "We suggest using Sequential Model API - a comparatively easier method for building all your Deep Learning models "
      ]
    }
  ]
}