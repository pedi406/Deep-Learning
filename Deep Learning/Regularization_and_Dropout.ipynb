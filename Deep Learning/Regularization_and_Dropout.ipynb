{
  "nbformat": 4,
  "nbformat_minor": 0,
  "metadata": {
    "kernelspec": {
      "display_name": "Python 3",
      "language": "python",
      "name": "python3"
    },
    "language_info": {
      "codemirror_mode": {
        "name": "ipython",
        "version": 3
      },
      "file_extension": ".py",
      "mimetype": "text/x-python",
      "name": "python",
      "nbconvert_exporter": "python",
      "pygments_lexer": "ipython3",
      "version": "3.6.8"
    },
    "colab": {
      "name": "Regularization and Dropout.ipynb",
      "provenance": []
    }
  },
  "cells": [
    {
      "cell_type": "markdown",
      "metadata": {
        "id": "AAsen8s8_qQ0"
      },
      "source": [
        "**Author:** [Hasan Ali](https://www.linkedin.com/in/learnmlwithhasan/)"
      ]
    },
    {
      "cell_type": "markdown",
      "metadata": {
        "id": "thhorARjsDPx"
      },
      "source": [
        "### Regularization\n",
        "\n",
        "Regularization is a technique which makes slight modifications to the learning algorithm such that the model generalizes better. This in turn improves the model’s performance on the unseen data as well. \n",
        "\n",
        "Remember when we were adding more layers to the model (making it more complex) ? Adding more than required layers might also lead to overfitting. \n",
        "\n",
        "*By looking at the graph below can you guess, what should be an ideal model complexity.*"
      ]
    },
    {
      "cell_type": "markdown",
      "metadata": {
        "id": "IKSiPd8lsDPy"
      },
      "source": [
        "![perfect_point.png](https://drive.google.com/uc?export=view&id=1isDRyvRtMFPhC8RQHL9Puh-OoOm0z9FP)"
      ]
    },
    {
      "cell_type": "markdown",
      "metadata": {
        "id": "pP3DVnQKsDP7"
      },
      "source": [
        "Somethings in Deep Learning can't be learnt in the first go. Regularisation is one of them. It takes some time. So, dont be hard on yourself and let this absorb.\n",
        "\n",
        "Here is how to use it in your neural networks.\n",
        "```python\n",
        "model.add(Dense(256,activation='relu', kernel_regularizer = 'l2'))\n",
        "```"
      ]
    },
    {
      "cell_type": "markdown",
      "metadata": {
        "id": "Trp7cAh_sDP8"
      },
      "source": [
        "### Dropouts\n",
        "\n",
        "Dropout is a regularization method that approximates training a large number of neural networks with different architectures in parallel. As mentioned, it is preferrably used when training a large neural network. "
      ]
    },
    {
      "cell_type": "code",
      "metadata": {
        "id": "GVgWUCb4sDP9",
        "colab": {
          "base_uri": "https://localhost:8080/",
          "height": 522
        },
        "outputId": "b0706c9a-bb79-413a-b38e-8d583ad2e6d7"
      },
      "source": [
        "from IPython.display import Image\n",
        "Image(url=\"https://miro.medium.com/max/1200/1*iWQzxhVlvadk6VAJjsgXgg.png\", width=800, height=500)"
      ],
      "execution_count": 1,
      "outputs": [
        {
          "output_type": "execute_result",
          "data": {
            "text/html": [
              "<img src=\"https://miro.medium.com/max/1200/1*iWQzxhVlvadk6VAJjsgXgg.png\" width=\"800\" height=\"500\"/>"
            ],
            "text/plain": [
              "<IPython.core.display.Image object>"
            ]
          },
          "metadata": {},
          "execution_count": 1
        }
      ]
    },
    {
      "cell_type": "markdown",
      "metadata": {
        "id": "GbaNQNWysDQB"
      },
      "source": [
        "*By dropping a unit out, we mean temporarily removing it from the network, along with all its incoming and outgoing connections*\n",
        "\n",
        "Dropout has the effect of making the training process noisy, forcing nodes within a layer to probabilistically take on more or less responsibility for the inputs.\n",
        "This conceptualization suggests that perhaps dropout breaks-up situations where network layers co-adapt to correct mistakes from prior layers, in turn making the model more robust."
      ]
    },
    {
      "cell_type": "markdown",
      "metadata": {
        "id": "21l5k4oosDQC"
      },
      "source": [
        "It can be used with most types of layers, such as dense fully connected layers, convolutional layers, and recurrent layers such as the long short-term memory network layer. Dropout may be implemented on any or all hidden layers in the network as well as the visible or input layer. \n",
        "\n",
        "`NOTE` : It is not used on the output layer."
      ]
    },
    {
      "cell_type": "code",
      "metadata": {
        "id": "68kgsPj1sDQK",
        "colab": {
          "base_uri": "https://localhost:8080/"
        },
        "outputId": "b08669e6-c5d9-49a9-9bc5-50e4902452b1"
      },
      "source": [
        "from tensorflow.keras.datasets import mnist\n",
        "# import matplotlib for visualization\n",
        "import numpy as np\n",
        "import matplotlib\n",
        "import matplotlib.pyplot as plt\n",
        "%matplotlib inline\n",
        "\n",
        "(X_train, y_train), (X_test, y_test) = mnist.load_data()"
      ],
      "execution_count": 2,
      "outputs": [
        {
          "output_type": "stream",
          "name": "stdout",
          "text": [
            "Downloading data from https://storage.googleapis.com/tensorflow/tf-keras-datasets/mnist.npz\n",
            "11493376/11490434 [==============================] - 0s 0us/step\n",
            "11501568/11490434 [==============================] - 0s 0us/step\n"
          ]
        }
      ]
    },
    {
      "cell_type": "code",
      "metadata": {
        "id": "ctJo_QQrsDQO",
        "colab": {
          "base_uri": "https://localhost:8080/",
          "height": 272
        },
        "outputId": "848cc644-daaa-427e-f622-fadb6727e6ae"
      },
      "source": [
        "images = X_train[:3]\n",
        "labels = y_train[:3]\n",
        "\n",
        "f,ax = plt.subplots(nrows=1,ncols=3, figsize=(20,4))\n",
        "\n",
        "for index,(img, ax) in enumerate(zip(images, ax)):\n",
        "    \n",
        "    ax.imshow(img,cmap='gray')\n",
        "    ax.axis('off')\n",
        "    ax.text(0.6,-2.0, f\"Digit in the Image {labels[index]}\", size=15, ha=\"center\")\n",
        "    \n",
        "plt.show()"
      ],
      "execution_count": 3,
      "outputs": [
        {
          "output_type": "display_data",
          "data": {
            "text/plain": [
              "<Figure size 1440x288 with 3 Axes>"
            ],
            "image/png": "[encoded data removed]"
          },
          "metadata": {
            "needs_background": "light"
          }
        }
      ]
    },
    {
      "cell_type": "code",
      "metadata": {
        "id": "yKSBryiPsDQS"
      },
      "source": [
        "from tensorflow.keras.models import Sequential\n",
        "from tensorflow.keras.layers import Dense, Dropout\n",
        "from tensorflow.keras.optimizers import SGD\n",
        "from tensorflow.keras.callbacks import TensorBoard\n",
        "from tensorflow.keras.utils import to_categorical\n",
        "from tensorflow.keras.callbacks import EarlyStopping\n",
        "from tensorflow.keras import regularizers\n",
        "from datetime import datetime"
      ],
      "execution_count": 4,
      "outputs": []
    },
    {
      "cell_type": "code",
      "metadata": {
        "id": "C9qUbXZIsDQZ"
      },
      "source": [
        "###why did we reshaped ?? Question for you !\n",
        "\n",
        "X_train = X_train.reshape(60000, 784)\n",
        "X_test = X_test.reshape(10000, 784)"
      ],
      "execution_count": 5,
      "outputs": []
    },
    {
      "cell_type": "code",
      "metadata": {
        "id": "bjlAMNCXsDQd"
      },
      "source": [
        "###what is to_categorical doing here ? Question for you !\n",
        "\n",
        "y_train = to_categorical(y_train, 10)\n",
        "y_test = to_categorical(y_test, 10)"
      ],
      "execution_count": 6,
      "outputs": []
    },
    {
      "cell_type": "code",
      "metadata": {
        "id": "s4afU-2YsDQg",
        "colab": {
          "base_uri": "https://localhost:8080/"
        },
        "outputId": "8750c734-cc19-4f7c-f971-c19fbc3449e3"
      },
      "source": [
        "model = Sequential()\n",
        "model.add(Dense(10, activation='relu', input_shape= (784,) ))\n",
        "model.add(Dropout(0.2)) ###using dropout\n",
        "model.add(Dense(256,activation='relu', kernel_regularizer = 'l2'))###using regularizer\n",
        "model.add(Dropout(0.2))###using dropout\n",
        "model.add(Dense(256,activation='relu', kernel_regularizer = 'l2')) ###using regularizer\n",
        "model.add(Dropout(0.2))###using dropout\n",
        "model.add(Dense(10, activation='softmax'))\n",
        "model.compile(loss='categorical_crossentropy', optimizer=SGD(lr=0.001), metrics=['accuracy'])"
      ],
      "execution_count": 7,
      "outputs": [
        {
          "output_type": "stream",
          "name": "stderr",
          "text": [
            "/usr/local/lib/python3.7/dist-packages/keras/optimizer_v2/gradient_descent.py:102: UserWarning: The `lr` argument is deprecated, use `learning_rate` instead.\n",
            "  super(SGD, self).__init__(name, **kwargs)\n"
          ]
        }
      ]
    },
    {
      "cell_type": "code",
      "metadata": {
        "id": "6pWxY6lisDQk"
      },
      "source": [
        "logdir = \"logs/\" + datetime.now().strftime(\"%Y%m%d-%H%M%S\")\n",
        "tensorboard_callback = TensorBoard(log_dir=logdir)\n",
        "\n",
        "es = EarlyStopping(monitor='val_loss', mode='min', verbose=1, patience=5)"
      ],
      "execution_count": 8,
      "outputs": []
    },
    {
      "cell_type": "code",
      "metadata": {
        "id": "HrW9m1nJsDQn"
      },
      "source": [
        "# model.compile(loss='categorical_crossentropy', optimizer='adam', metrics=['accuracy'])"
      ],
      "execution_count": 9,
      "outputs": []
    },
    {
      "cell_type": "code",
      "metadata": {
        "id": "M8rhtyNmsDQq",
        "colab": {
          "base_uri": "https://localhost:8080/"
        },
        "outputId": "cfd5ecd4-0684-48f9-ff26-fcff12b2c9ac"
      },
      "source": [
        "training_history = model.fit(\n",
        "    X_train, # input\n",
        "    y_train, # output\n",
        "    batch_size=32,\n",
        "    verbose=1, # Suppress chatty output; use Tensorboard instead\n",
        "    epochs=10,\n",
        "    validation_data=(X_test, y_test),\n",
        "    callbacks=[tensorboard_callback, es],\n",
        ")"
      ],
      "execution_count": 10,
      "outputs": [
        {
          "output_type": "stream",
          "name": "stdout",
          "text": [
            "Epoch 1/10\n",
            "1875/1875 [==============================] - 6s 3ms/step - loss: 4.8968 - accuracy: 0.1560 - val_loss: 4.6326 - val_accuracy: 0.2033\n",
            "Epoch 2/10\n",
            "1875/1875 [==============================] - 5s 3ms/step - loss: 4.5876 - accuracy: 0.1834 - val_loss: 4.4366 - val_accuracy: 0.2015\n",
            "Epoch 3/10\n",
            "1875/1875 [==============================] - 5s 3ms/step - loss: 4.3908 - accuracy: 0.1895 - val_loss: 4.2038 - val_accuracy: 0.2277\n",
            "Epoch 4/10\n",
            "1875/1875 [==============================] - 5s 3ms/step - loss: 4.1661 - accuracy: 0.2095 - val_loss: 3.8580 - val_accuracy: 0.2492\n",
            "Epoch 5/10\n",
            "1875/1875 [==============================] - 5s 3ms/step - loss: 3.8562 - accuracy: 0.2840 - val_loss: 3.6187 - val_accuracy: 0.3419\n",
            "Epoch 6/10\n",
            "1875/1875 [==============================] - 5s 3ms/step - loss: 3.6629 - accuracy: 0.3006 - val_loss: 3.4202 - val_accuracy: 0.3579\n",
            "Epoch 7/10\n",
            "1875/1875 [==============================] - 5s 2ms/step - loss: 3.4880 - accuracy: 0.3069 - val_loss: 3.2624 - val_accuracy: 0.3610\n",
            "Epoch 8/10\n",
            "1875/1875 [==============================] - 5s 2ms/step - loss: 3.3071 - accuracy: 0.3280 - val_loss: 3.0384 - val_accuracy: 0.4110\n",
            "Epoch 9/10\n",
            "1875/1875 [==============================] - 5s 3ms/step - loss: 3.0247 - accuracy: 0.3979 - val_loss: 2.6921 - val_accuracy: 0.5049\n",
            "Epoch 10/10\n",
            "1875/1875 [==============================] - 5s 3ms/step - loss: 2.8093 - accuracy: 0.4267 - val_loss: 2.5184 - val_accuracy: 0.5233\n"
          ]
        }
      ]
    },
    {
      "cell_type": "markdown",
      "metadata": {
        "id": "i8IUEJ1ysDQu"
      },
      "source": [
        "This is just for demo purpose, dorpouts is majorly used in deep/wide neural networks. This is a very basic one. As you can see, the accuracy is increasing very slowly and steadily and the model is yet to converge it will take around 100 more epochs. "
      ]
    },
    {
      "cell_type": "markdown",
      "metadata": {
        "id": "jKxc6qS9sDQv"
      },
      "source": [
        "#### Why not just use early stopping rather than regularisation ?\n",
        "\n",
        "The main downside of early stopping is that this couples two tasks:\n",
        "\n",
        "1. Algorithm to optimize the cost function j (eg gradient descent, adam etc)\n",
        "2. Prevent overfitting (ie get more data, regularization)\n",
        "\n",
        "because by stopping gradient decent early, we are sort of breaking whatever we are doing to optimize cost function J and simultaneously trying to not over fit. Rather than using early stopping, one alternative is just use L2 regularization then we can just train the neural network as long as possible(the downside here is we have to try a lot of values of the regularization parameter lambda and hence it becomes computationally expensive)"
      ]
    },
    {
      "cell_type": "markdown",
      "metadata": {
        "id": "AVI257GmsDQw"
      },
      "source": [
        "**Points to conclude with**\n",
        "\n",
        "- Large weights in a neural network are a sign of a more complex network that has overfit the training data.\n",
        "- Probabilistically dropping out nodes in the network is a simple and effective regularization method.\n",
        "- A large network with more training and the use of a weight constraint are suggested when using dropout."
      ]
    }
  ]
}